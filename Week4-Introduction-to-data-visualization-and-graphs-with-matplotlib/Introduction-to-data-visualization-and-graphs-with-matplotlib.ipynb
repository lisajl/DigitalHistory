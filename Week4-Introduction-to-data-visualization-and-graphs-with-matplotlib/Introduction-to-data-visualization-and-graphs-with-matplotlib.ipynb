{
  "nbformat": 4,
  "nbformat_minor": 0,
  "metadata": {
    "colab": {
      "name": "Week4-Introduction-to-Data-Visualization.ipynb",
      "provenance": [],
      "collapsed_sections": [
        "ObtE8-BHODkC"
      ],
      "include_colab_link": true
    },
    "kernelspec": {
      "display_name": "Python 3",
      "language": "python",
      "name": "python3"
    },
    "language_info": {
      "codemirror_mode": {
        "name": "ipython",
        "version": 3
      },
      "file_extension": ".py",
      "mimetype": "text/x-python",
      "name": "python",
      "nbconvert_exporter": "python",
      "pygments_lexer": "ipython3",
      "version": "3.7.4"
    }
  },
  "cells": [
    {
      "cell_type": "markdown",
      "metadata": {
        "id": "view-in-github",
        "colab_type": "text"
      },
      "source": [
        "<a href=\"https://colab.research.google.com/github/bitprj/DigitalHistory/blob/master/Week4-Introduction-to-data-visualization-and-graphs-with-matplotlib/Week4_Introduction-to-data-visualization-and-graphs-with-matplotlib.ipynb\" target=\"_parent\"><img src=\"https://colab.research.google.com/assets/colab-badge.svg\" alt=\"Open In Colab\"/></a>"
      ]
    },
    {
      "cell_type": "markdown",
      "metadata": {
        "id": "s4PGUvpmdMLH",
        "colab_type": "text"
      },
      "source": [
        "<img src=\"https://github.com/ShayanRiyaz/DigitalHistory/blob/master/Week4-Introduction-to-data-visualization-and-graphs-with-matplotlib/assets/icons/bitproject.png?raw=1\" width=\"200\" align=\"left\"> \n",
        "<img src=\"https://github.com/ShayanRiyaz/DigitalHistory/blob/master/Week4-Introduction-to-data-visualization-and-graphs-with-matplotlib/assets/icons/data-science.jpg?raw=1\" width=\"300\" align=\"right\">"
      ]
    },
    {
      "cell_type": "markdown",
      "metadata": {
        "colab_type": "text",
        "id": "d1QH_MXvoIf0"
      },
      "source": [
        "# <div align=\"center\">Introduction to Data Visualization </div>"
      ]
    },
    {
      "cell_type": "markdown",
      "metadata": {
        "colab_type": "text",
        "id": "6vOCpB4CHPyH"
      },
      "source": [
        "# Table of Contents\n",
        "\n"
      ]
    },
    {
      "cell_type": "markdown",
      "metadata": {
        "id": "Tmhk3Rllmeyb",
        "colab_type": "text"
      },
      "source": [
        "\n",
        "- What is Data Visualization.\n",
        "- Why should we use Data Visuazliation\n",
        "- About the datasets\n",
        "    - Stock Market Index\n",
        "    - California Housing \n",
        "- Goals\n",
        "    - Matplotlib\n",
        "        - Functional Method\n",
        "        - Object Oriented Method\n",
        "    - Pandas\n",
        "        - DataFrame\n",
        "        - Series\n",
        "- Let's get started\n",
        "    - Loading Files\n",
        "    - Working with Time-Series\n",
        "    - Figures and Subplots\n",
        "    - The ```plt.plot``` function\n",
        "    - **1.0 - Now Try This**\n",
        "    - Colors, Markers, and Line Styles\n",
        "    - **2.0 - Now Try This**\n",
        "    - Ticks, Labels and Legends\n",
        "    - **3.0 - Now Try This**\n",
        "    - Adding Legends\n",
        "    - **4.0 - Now Try This**\n",
        "    - Saving plots to file.\n",
        "- Types of Graphs and Charts\n",
        "    - Bar Charts\n",
        "    - **5.0 - Now Try This**\n",
        "    - Histogram\n",
        "    - **6.0 - Now Try This**\n",
        "    - Line Charts\n",
        "    - Scatter plots\n",
        "    - **7.0 - Now Try This**\n",
        "- Tutorial - Analyzing the California Housing Dataset\n",
        "    - About the Dataset\n",
        "    - Import Libraries and unpack file\n",
        "    - Visualizing the DataFrames\n",
        "    - Mapping Geographical Data\n",
        "- References\n",
        "- Appendix"
      ]
    },
    {
      "cell_type": "markdown",
      "metadata": {
        "id": "fWJTtRfRdMLQ",
        "colab_type": "text"
      },
      "source": [
        "## Recap:\n",
        "\n",
        "By this point through our journey you have learned the following:\n",
        "- Loading and editing google co lab notebooks.\n",
        "- Learning and using basic ```Python``` and it's *mathy* library ```NumPy```\n",
        "- Use the ```Pandas``` library to load simple ```.csv``` datasets and run simple tasks such as finding values using ```dataFrame.loc``` or ```dataFrame.iloc```, cleaning our dataset by removing null values using ```df.dropna()```\n",
        "    \n",
        "All three are crucial to the foundation we are building. You have probably seen data visualizations all around you and have probably used it for work or presentation. Now, you will be able to visualize datasets that have more information and columns."
      ]
    },
    {
      "cell_type": "markdown",
      "metadata": {
        "id": "mR4Ksva9dMLS",
        "colab_type": "text"
      },
      "source": [
        "<img src=\"https://github.com/ShayanRiyaz/DigitalHistory/blob/master/Week4-Introduction-to-data-visualization-and-graphs-with-matplotlib/assets/data-visualization.png?raw=1\" width=\"1500\" height = \"500\" align=\"center\">"
      ]
    },
    {
      "cell_type": "markdown",
      "metadata": {
        "id": "0g6B-TXtmshk",
        "colab_type": "text"
      },
      "source": [
        "# Data Visualization"
      ]
    },
    {
      "cell_type": "markdown",
      "metadata": {
        "colab_type": "text",
        "id": "L-6bplHzoPc-"
      },
      "source": [
        "## What is Data Visualization \n",
        "\n",
        "Data visualization is where a given dataset is presented in a graphical format. It helps us in detecting patterns, trends correlations that usually go undetected in text-based data. In simple terms, We primarily use data visualization:\n",
        "- To *explore* data\n",
        "- To *communicate* data"
      ]
    },
    {
      "cell_type": "markdown",
      "metadata": {
        "colab_type": "text",
        "id": "DydOtofqHPyJ"
      },
      "source": [
        "## Why should we use data Visualization\n",
        "As the world becomes more connected due to an increasing number of electronic devices, the volume of data will also continue to grow at an unprecedented rate. Data visualizations make big and small data easier for the human brain to understand, and visualization also makes it easier to detect patterns, trends, and outliers in groups of data.\n",
        "\n",
        "Data visualization is truly important for any career; from teachers trying to make sense of student test results to computer scientists trying to develop the next big thing in artificial intelligence, it’s hard to imagine a field where people don’t need to better understand data."
      ]
    },
    {
      "cell_type": "markdown",
      "metadata": {
        "colab_type": "text",
        "id": "VsJjT6fxHPyK"
      },
      "source": [
        "## How should we use Data Visualization\n",
        "\n",
        "Good data visualizations should place meaning into complicated datasets so that their message is clear and concise.\n",
        "\n",
        "Whether you use a basic bar graph or an intricate infographic, data visualization makes large amounts of numbers and statistics accessible to both business holders and their audience.\n",
        "\n",
        "It can (and should) be used to influence your decision making, and it’s especially important when trying to analyze and implement strategies to improve. For example, a website; visualization makes it easy to ensure your website is as optimized as possible.\n",
        "\n",
        "Visualization can help you begin to ask the right questions, and it makes the data more memorable for stakeholders.\n"
      ]
    },
    {
      "cell_type": "markdown",
      "metadata": {
        "colab_type": "text",
        "id": "vSstc5lqHPyL"
      },
      "source": [
        "# About the Datasets\n"
      ]
    },
    {
      "cell_type": "markdown",
      "metadata": {
        "id": "0oBrAh8SmAl9",
        "colab_type": "text"
      },
      "source": [
        "### Stock Market Index\n",
        "<img src=\"https://github.com/ShayanRiyaz/DigitalHistory/blob/master/Week4-Introduction-to-data-visualization-and-graphs-with-matplotlib/assets/wallstreet.png?raw=1\" width=\"300\" align=\"right\">\n",
        "\n",
        "\n",
        "This is a simple introductory dataset. The dataset contains has a shape of 5473 rows and 10 columns, the first row is the header row, therefore the shape of our dataset is (5472,10). The first column is the datetime ranging from 1990 to 2012. The remaining 9 columns are numerical values that indicate the stock prices of companies such as:\n",
        "- AA \n",
        "- AAPL \n",
        "- GE \n",
        "- IBM \n",
        "- JNJ \n",
        "- MSFT \n",
        "- PEP \n",
        "- SPX \n",
        "- XOM\n"
      ]
    },
    {
      "cell_type": "markdown",
      "metadata": {
        "id": "H0En23wfdMLc",
        "colab_type": "text"
      },
      "source": [
        "### California Housing Information <a name=\"CaliforniaHousing\"></a>\n",
        "<img src=\"https://github.com/ShayanRiyaz/DigitalHistory/blob/master/Week4-Introduction-to-data-visualization-and-graphs-with-matplotlib/assets/california.png?raw=1\" width=\"300\" align=\"right\">\n",
        "This dataset serves as an excellent introduction to implementing machine learning algorithms because it requires rudimentary data cleaning, has an easily understandable list of variables and sits at an optimal size between being to toyish and too cumbersome.\n",
        "\n",
        "The data contains information from the 1990 California census. So although it may not help you with predicting current housing prices like the Zillow Zestimate dataset, it does provide an accessible introductory dataset for teaching people about the basics of machine learning.\n",
        "\n",
        "**Content**\n",
        "The data pertains to the houses found in a given California district and some summary stats about them based on the 1990 census data. The columns are as follows, their names are self explanatory:\n",
        "\n",
        "- longitude\n",
        "- latitude\n",
        "- housing median age\n",
        "- total_rooms\n",
        "- total_bedrooms\n",
        "- population\n",
        "- households\n",
        "- median_income\n",
        "- median house value\n",
        "- ocean_proximity"
      ]
    },
    {
      "cell_type": "markdown",
      "metadata": {
        "colab_type": "text",
        "id": "IRRn9dZ3HPyM"
      },
      "source": [
        "# Goals:\n",
        "\n"
      ]
    },
    {
      "cell_type": "markdown",
      "metadata": {
        "id": "XlEogLLNmon0",
        "colab_type": "text"
      },
      "source": [
        "- Building a plot step by step using matplotlib.\n",
        "- Loading datasets using pandas and visualizing selected columns\n",
        "- Using the stock-market dataset to visualize trends in data from 1992-2016 for 6 listed companies.\n",
        "- Breaking down the ```matplotlib``` function ```pyplot.plot```\n",
        "- Introduction to Pandas\n",
        "    - Figures and subplots\n",
        "    - 1.0 - **Now Try This**\n",
        "    - Colors, Markers, and Line Styles\n",
        "    - 2.0 - **Now Try This**\n",
        "    - Ticks, Labels and Legends\n",
        "    - 3.0 - **Now Try This**\n",
        "    - 4.0 - **Now Try This**\n",
        "- Plotting simple relational graphs such as:\n",
        "    - Bar plots\n",
        "    - 5.0 - **Now Try This**\n",
        "    - Histograms\n",
        "    - 6.0 - **Now Try This**\n",
        "    - Line plots\n",
        "    - Scatter plots\n",
        "    - 7.0 - **Now Try This**\n",
        "- Using our tutorial to map longitude and latitude data."
      ]
    },
    {
      "cell_type": "markdown",
      "metadata": {
        "id": "xlQspYFJxYHj",
        "colab_type": "text"
      },
      "source": [
        "# Grading\n",
        "\n",
        "In order to work on the NTT sections and submit them for grading, you'll need to run the code block below. It will ask for your student ID number and then create a folder that will house your answers for each question. At the very end of the notebook, there is a code section that will download this folder as a zip file to your computer. This zip file will be your final submission."
      ]
    },
    {
      "cell_type": "code",
      "metadata": {
        "id": "glNwYzOyxYHl",
        "colab_type": "code",
        "colab": {}
      },
      "source": [
        "import os\n",
        "import shutil\n",
        "\n",
        "!rm -rf sample_data\n",
        "\n",
        "student_id = input('Please Enter your Student ID: ') # Enter Student ID.\n",
        "\n",
        "while len(student_id) != 9:\n",
        " student_id = int('Please Enter your Student ID: ')  \n",
        "  \n",
        "folder_location = f'{student_id}/Week_Four/Now_Try_This'\n",
        "if not os.path.exists(folder_location):\n",
        "  os.makedirs(folder_location)\n",
        "  print('Successfully Created Directory, Lets get started')\n",
        "else:\n",
        "  print('Directory Already Exists')"
      ],
      "execution_count": null,
      "outputs": []
    },
    {
      "cell_type": "markdown",
      "metadata": {
        "colab_type": "text",
        "id": "p2g8oE86dovw"
      },
      "source": [
        "<img src=\"https://github.com/ShayanRiyaz/DigitalHistory/blob/master/Week4-Introduction-to-data-visualization-and-graphs-with-matplotlib/assets/matplotlib-logo.png?raw=1\" width=\"400\" align=\"right\">\n",
        "\n",
        "# Matplotlib \n",
        "    \n",
        "\n"
      ]
    },
    {
      "cell_type": "markdown",
      "metadata": {
        "id": "hAh48DBpm0Y8",
        "colab_type": "text"
      },
      "source": [
        "The matplotlib library is a Python 2-Dimensional plotting (x and y) library which allows us to generate:\n",
        "- Line plots\n",
        "- Scatter plots\n",
        "- Histograms\n",
        "- Barplots\n",
        "\n",
        "In our case, we will be using a specific set of functions in ```matplotlib.pyplot```.\n",
        "\n",
        "you can find more in depth information about matplotlib [here.](https://matplotlib.org/)\n",
        "\n",
        "Note: Matplotlib like pandas is not a core part of the Python Library, therefore we have to download it by using:\n",
        "\n",
        "```python -m pip install matplotlib```\n",
        "\n",
        "We will be using ```matplitlib.pyplot``` class. ```pyplot``` maintains an internal state in which we can build visualization step by step."
      ]
    },
    {
      "cell_type": "code",
      "metadata": {
        "colab_type": "code",
        "id": "yoRLjeLsb9LT",
        "colab": {}
      },
      "source": [
        "from matplotlib import pyplot as plt"
      ],
      "execution_count": null,
      "outputs": []
    },
    {
      "cell_type": "markdown",
      "metadata": {
        "colab_type": "text",
        "id": "I_AV51OiHPyT"
      },
      "source": [
        "is the same as"
      ]
    },
    {
      "cell_type": "code",
      "metadata": {
        "colab_type": "code",
        "id": "O3qwFhWQHPyU",
        "colab": {}
      },
      "source": [
        "import matplotlib.pyplot as plt"
      ],
      "execution_count": null,
      "outputs": []
    },
    {
      "cell_type": "markdown",
      "metadata": {
        "colab_type": "text",
        "id": "IpCZi-jNHPyZ"
      },
      "source": [
        "With matplotlib there are two methods of plotting:\n",
        "\n",
        "### Functional Method \n",
        "Using the basic matplotlib command, we can easily create a plot. Remember, if no plot was displayed or if you’re using Matplotlib from within a python script, don’t forget to add plt.show() at the last line to display your plot.\n",
        "\n",
        "**Steps In**\n",
        "1. **plt.plot(x,y,color, others)** Plot y versus x as lines and/or markers.\n",
        "2. **plt.xlabel(“Your Text”)** Set the x-axis label of the current axes.\n",
        "3. **plt.ylabel(“Your Text”)** Set the y-axis label of the current axes.\n",
        "4. **plt.set_title(“Your Title”)** Set a title of the current axes.\n",
        "5. **plt.show()** Display a figure.\n",
        "\n",
        "### Object-Oriented Method\n",
        "The object-oriented method offers another way to create a plot. The idea here is to create figure objects and call methods of it. To create figure, we use the .figure() method. Once you created a figure, you need to add a set of axes to it using .add_axes() method.\n",
        "\n",
        "**Steps In**\n",
        "1. **fig = plt.figure()** Creates a new figure.\n",
        "2. **axes = fig.add_axes([left,bottom,width,height], projection =’Your choice’)** Adds an axes at position [left, bottom, width, height] where all quantities are in fractions of figure width and height\n",
        "3. **axes.plot(x,y)** Plot y versus x as lines and/or markers.\n",
        "4. **axes.set_xlabel(“Your Text”)** Set the label for the x-axis.\n",
        "5. **axes.set_ylabel(“Your Text”)** Set the label for the x-axis.\n",
        "6. **axes.set_title(“Your Title”)** Set the title of the current axes.\n",
        "\n",
        "\n",
        "The code might not make sense right now, but throughout this notebook, we will be going through these methods step by step. For now, The good thing about these two methods is that the output is the same, these are just two different implementations. Therefore, we can use them side by side with a program."
      ]
    },
    {
      "cell_type": "markdown",
      "metadata": {
        "colab_type": "text",
        "id": "JtMPbUqfckDg"
      },
      "source": [
        "# Pandas"
      ]
    },
    {
      "cell_type": "code",
      "metadata": {
        "colab_type": "code",
        "id": "zYFUi0Z5HPyb",
        "colab": {}
      },
      "source": [
        "import pandas as pd"
      ],
      "execution_count": null,
      "outputs": []
    },
    {
      "cell_type": "markdown",
      "metadata": {
        "colab_type": "text",
        "id": "kR6u6MNDcltU"
      },
      "source": [
        "Matplotlib is fairly a low-level tool. This is because its main purpose is to draw simple plots, involving numerical data, e.g:\n",
        "- Type of plot\n",
        "  - line\n",
        "  - bar\n",
        "  - box\n",
        "  - scatter\n",
        "  - contour etc,\n",
        "- legend\n",
        "- title\n",
        "- tick labels\n",
        "\n",
        "\n",
        "By now you must have noticed that we've repeated the names of the types of plots at least three times. This is because these are the most fundamental concepts to understand and most complex graphs such as 3D are built on top of these.\n",
        "\n",
        "With pandas, we have multiple columns of data with row and column labels; pandas has built-in methods that simplify creating visualizations from DataFrames and Series Objects.\n",
        "\n",
        "Another library is ```seaborn``` which is a statistical graphics library.\n",
        "We will be using seaborn in the latter half of our course.\n",
        "\n",
        "One of the biggest benefits of using pandas is the method of loading data files (in our case ```pd.read_csv```) as a dataframe. This makes our work efficient and saves us more time to play with the dataset."
      ]
    },
    {
      "cell_type": "markdown",
      "metadata": {
        "colab_type": "text",
        "id": "hjdsfEU6P2_3"
      },
      "source": [
        "### Load File"
      ]
    },
    {
      "cell_type": "markdown",
      "metadata": {
        "colab_type": "text",
        "id": "AYIHn5QEeDiP"
      },
      "source": [
        "### DataFrame"
      ]
    },
    {
      "cell_type": "markdown",
      "metadata": {
        "colab_type": "text",
        "id": "PrXNp9OXHPyo"
      },
      "source": [
        "- The first line of code loads our dataset as a csv file:\n",
        "- ```df``` is what we have defined our data frame as (short for DataFrame). ```pd.read_csv``` is the built in function in pandas which helps us load csv files specifically.  Inside the bracket is the path to our .csv file.\n",
        "- On the second line, by calling ```df.plot``` pandas immediately plots all the columns in the dataset. \n",
        "\n",
        "*Note: This graph is not correct, although it gives us a complete plot, the ```x-axis``` doesn't make sense*."
      ]
    },
    {
      "cell_type": "code",
      "metadata": {
        "colab_type": "code",
        "id": "B-Hg4y3JHPyh",
        "colab": {}
      },
      "source": [
        "url = 'https://raw.githubusercontent.com/bitprj/DigitalHistory/master/Week4-Introduction-to-data-visualization-and-graphs-with-matplotlib/data/stock_px/stock_px.csv'\n",
        "\n",
        "df = pd.read_csv(url)\n",
        "df.plot()"
      ],
      "execution_count": null,
      "outputs": []
    },
    {
      "cell_type": "markdown",
      "metadata": {
        "colab_type": "text",
        "id": "zc913mI-eCKa"
      },
      "source": [
        "### Series"
      ]
    },
    {
      "cell_type": "markdown",
      "metadata": {
        "id": "1RSd3j2zdMMw",
        "colab_type": "text"
      },
      "source": [
        "A Series has the same structure as a DataFrame, the main difference is that instead of multiple there is only a single column. So if we were to plot columns individually, we would be plotting series."
      ]
    },
    {
      "cell_type": "code",
      "metadata": {
        "colab_type": "code",
        "id": "s0FVvavWdNsd",
        "colab": {}
      },
      "source": [
        "s = pd.Series(df['AA'])\n",
        "s.plot()"
      ],
      "execution_count": null,
      "outputs": []
    },
    {
      "cell_type": "markdown",
      "metadata": {
        "colab_type": "text",
        "id": "2hooLmr9devG"
      },
      "source": [
        "In this plot above, here are the important points we should observe:\n",
        "- The Series object's index is passed to matplotlib for plotting on the x-axis. In our case our object is ```df['AA']``` which the column names ```AA``` in our dataframe ```df```\n",
        "- The x-axis and y-axis properties can be modified by using ```xticks```, ```xlim```, ```yticks``` and ```ylim```\n",
        "\n",
        "*Note: Same as the previous plot, the ```x-axis``` plot is not correct.*"
      ]
    },
    {
      "cell_type": "markdown",
      "metadata": {
        "id": "r_ZTTIcmHUBy",
        "colab_type": "text"
      },
      "source": [
        "## Working with Time-Series"
      ]
    },
    {
      "cell_type": "code",
      "metadata": {
        "colab_type": "code",
        "id": "ZCXSzsdlHPy1",
        "colab": {}
      },
      "source": [
        "df.head()"
      ],
      "execution_count": null,
      "outputs": []
    },
    {
      "cell_type": "markdown",
      "metadata": {
        "colab_type": "text",
        "id": "DjOZnYxvHPy7"
      },
      "source": [
        "This is the dataset we loaded previously but there is something strange about it. We have an ```index``` column at the far left of the table, however, right next to it we have a date and time column which hasn't been named and has the column value 0.\n",
        "\n",
        "What this means is that the column doesn't have a name assigned to it. What happened is the function ```read_csv``` automatically assigned the column value 0 in order to mark it. The column with index value 0 can be the index column *(The possible reason why it wasn't given a name)*. Therefore we can get rid of the left most header-less column, which is the current index.\n",
        "\n",
        "Luckily, this can be easily fixed when we load our dataset using ```pd.read_csv```. This time we will be making two changes:\n",
        "1. Add a parameter ```index_col``` and equate it to ```0```. This signifies that we want to assign the index to the column with id 0. \n",
        "2. Set ```parse_dates``` = ```True```. \n",
        "\n",
        "Note: Sometimes you might want to set a different column as the index and it could be a string instead of an integer. In a case like that you can simply do that by setting the ```index_col``` parameter to ```\"Date\"```\n",
        "\n",
        "This is important because the dataframe doesn't know that the index column is a time series column. \n",
        "Currently it's just a string without any datetime properties. Fortunately, this function converts the strings to a datetime category.\n",
        "\n",
        "\n"
      ]
    },
    {
      "cell_type": "code",
      "metadata": {
        "colab_type": "code",
        "id": "4X-FrOw5HPy8",
        "colab": {}
      },
      "source": [
        "df = pd.read_csv(url,index_col = 0, parse_dates= True)"
      ],
      "execution_count": null,
      "outputs": []
    },
    {
      "cell_type": "code",
      "metadata": {
        "colab_type": "code",
        "id": "mzMIfPndHPzA",
        "colab": {}
      },
      "source": [
        "df.head()"
      ],
      "execution_count": null,
      "outputs": []
    },
    {
      "cell_type": "markdown",
      "metadata": {
        "colab_type": "text",
        "id": "GU9T5w23HPzE"
      },
      "source": [
        "Observing the new dataframe, we can see the changes in the left-most column. The datetime has become our index column. \n",
        "\n",
        "*Remember, an index column doesn't necessarily have to be the date, but it is always better since datetime datasets usually point towards predicting and finding underlying patterns with respect to the change in time periods.*"
      ]
    },
    {
      "cell_type": "code",
      "metadata": {
        "colab_type": "code",
        "id": "Vws2WJU4HPzF",
        "colab": {}
      },
      "source": [
        "df.dtypes"
      ],
      "execution_count": null,
      "outputs": []
    },
    {
      "cell_type": "markdown",
      "metadata": {
        "id": "7UuRdd15dMOB",
        "colab_type": "text"
      },
      "source": [
        "as expected all the values are ```floats``` i.e decimals."
      ]
    },
    {
      "cell_type": "markdown",
      "metadata": {
        "colab_type": "text",
        "id": "hoy3PgBiPJKn"
      },
      "source": [
        "## Figures and Subplots\n",
        "\n"
      ]
    },
    {
      "cell_type": "markdown",
      "metadata": {
        "id": "t_d3z5AwdMOJ",
        "colab_type": "text"
      },
      "source": [
        "Now we know how to make a simple plot for a DataFrame and a Series (a column from our dataset). However, in most cases, it is more useful to plot multiple plots side by side. This is done by using the ```plt.figure()``` function. \n",
        "\n",
        "*Remember ```plt``` is actually ```matplotlib.pyplot```, so we are calling the ```figure()``` method, which is located in the ```pyplot``` class in the ```matplotlib``` package.\n",
        "In short this order is helpful to understand ```package.class.method(paramters)```.*\n",
        "\n",
        "\n",
        "\n",
        "Since plt is a class, we can simply add the methods to the object by using the ```class.method()``` notation."
      ]
    },
    {
      "cell_type": "code",
      "metadata": {
        "colab_type": "code",
        "id": "LiVYx-ejsdgV",
        "colab": {}
      },
      "source": [
        "fig = plt.figure()"
      ],
      "execution_count": null,
      "outputs": []
    },
    {
      "cell_type": "markdown",
      "metadata": {
        "colab_type": "text",
        "id": "x2T3RjHOPWId"
      },
      "source": [
        "\n",
        "Let's dive into ```plt.figure```, it has several parameters, in our use ```figsize()``` is important. This will guarantee the figure has a certain size and aspect ratio if saved to disk.\n",
        "\n",
        "**Note**: In Co-lab / Jupyter, nothing will be shown until a few more commands are entered. We cannot make a plot with a blank figure. Therefore we will create one or more subplots using ```add_subplot```."
      ]
    },
    {
      "cell_type": "code",
      "metadata": {
        "colab_type": "code",
        "id": "egFPDsROP2vd",
        "colab": {}
      },
      "source": [
        "ax1 = fig.add_subplot(2,2,1)\n",
        "fig"
      ],
      "execution_count": null,
      "outputs": []
    },
    {
      "cell_type": "markdown",
      "metadata": {
        "colab_type": "text",
        "id": "5urgB0pRP6XD"
      },
      "source": [
        "The above code means that we are transforming our original ```fig``` to a ```2 row``` and ```2 column``` figure. Next, we are placing the plot ```ax``` to the first row, the first column. In total, this means there will be 4 plots, of which we have selected the first.\n",
        "\n",
        "If we create the next two subplots, we'll end up with a visualization that looks exactly like "
      ]
    },
    {
      "cell_type": "code",
      "metadata": {
        "colab_type": "code",
        "id": "fAf8FcgQQQvi",
        "colab": {}
      },
      "source": [
        "ax2 = fig.add_subplot(2,2,2)\n",
        "ax3 = fig.add_subplot(2,2,3)\n",
        "fig"
      ],
      "execution_count": null,
      "outputs": []
    },
    {
      "cell_type": "markdown",
      "metadata": {
        "colab_type": "text",
        "id": "fY9DxgWKHPzc"
      },
      "source": [
        "# The ```plt.plot``` function"
      ]
    },
    {
      "cell_type": "code",
      "metadata": {
        "colab_type": "code",
        "id": "Xx9066mxHPzc",
        "colab": {}
      },
      "source": [
        "plt.plot(df['AA'])"
      ],
      "execution_count": null,
      "outputs": []
    },
    {
      "cell_type": "markdown",
      "metadata": {
        "colab_type": "text",
        "id": "OyOTqxQlQkhd"
      },
      "source": [
        "Above the ```plt``` is the class we are calling. ```plot``` is the function/method inside the ```plt``` class inside the plot method we define the parameter to be ```df['AA']``` which means the column *AA* from the dataframe ```df```. Once we run this command it plots the column with respect to the index (which is the date-time).\n",
        "\n",
        "**Next**, we will run all the commands together. One slight change will be adding a subplot. "
      ]
    },
    {
      "cell_type": "code",
      "metadata": {
        "colab_type": "code",
        "id": "yIdUkKRyRfrD",
        "colab": {}
      },
      "source": [
        "fig = plt.figure()\n",
        "ax1 = fig.add_subplot(2,2,1)\n",
        "ax2 = fig.add_subplot(2,2,2)\n",
        "ax3 = fig.add_subplot(2,2,3)\n",
        "\n",
        "plt.plot(df['AA'])"
      ],
      "execution_count": null,
      "outputs": []
    },
    {
      "cell_type": "markdown",
      "metadata": {
        "colab_type": "text",
        "id": "ak9IVUMiRy-j"
      },
      "source": [
        "**Notice Something?**\n",
        "\n",
        "\n",
        "We did not ascribe a subplot figure to the plot, it automatically took the last plot.\n",
        "\n"
      ]
    },
    {
      "cell_type": "markdown",
      "metadata": {
        "colab_type": "text",
        "id": "AHwT6UgFHPzk"
      },
      "source": [
        "## 1.0 - Now Try This:\n",
        "- ```ax2.plot``` to plot the dataset for ```df['AAPL']```.\n",
        "- plot the dataframe for ```GE``` on the ```ax3``` axis. \n",
        "\n",
        "**Which spot will it take?**\n",
        "\n",
        "**Answer**:\n",
        "*Hint:  Use ```fig``` to check.*"
      ]
    },
    {
      "cell_type": "code",
      "metadata": {
        "id": "75tcOoqknTic",
        "colab_type": "code",
        "colab": {}
      },
      "source": [
        "# This code is for the following Now Try This question, please DO NOT MODIFY IT.\n",
        "# Run it before attempting the question.\n",
        "fig = plt.figure()           \n",
        "ax1 = fig.add_subplot(2,2,1) \n",
        "ax2 = fig.add_subplot(2,2,2) \n",
        "ax3 = fig.add_subplot(2,2,3) \n",
        "\n",
        "plt.plot(df['AA'])"
      ],
      "execution_count": null,
      "outputs": []
    },
    {
      "cell_type": "code",
      "metadata": {
        "id": "50K6Nk56dMPT",
        "colab_type": "code",
        "colab": {}
      },
      "source": [
        "#Once your have verified your answer please uncomment the line below and run it, this will save your code \n",
        "#%%writefile -a {folder_location}/1.py\n",
        "#Please note that if you uncomment and run multiple times, the program will keep appending to the file.\n",
        "\n",
        "# INSERT CODE HERE\n",
        "# INSERT CODE HERE\n",
        "# INSERT CODE HERE"
      ],
      "execution_count": null,
      "outputs": []
    },
    {
      "cell_type": "markdown",
      "metadata": {
        "id": "wPOXF_Zgipee",
        "colab_type": "text"
      },
      "source": [
        "### Hint:"
      ]
    },
    {
      "cell_type": "markdown",
      "metadata": {
        "id": "x7a9fz5AirWk",
        "colab_type": "text"
      },
      "source": [
        "This is what the output should look like:\n",
        "\n",
        "![out_1](https://github.com/bitprj/DigitalHistory/blob/master/Week4-Introduction-to-data-visualization-and-graphs-with-matplotlib/assets/NTT4Plots/Q1.png?raw=true)"
      ]
    },
    {
      "cell_type": "markdown",
      "metadata": {
        "colab_type": "text",
        "id": "7LC1-TdjP6vw"
      },
      "source": [
        "# Colors, Markers, and Line Styles\n"
      ]
    },
    {
      "cell_type": "markdown",
      "metadata": {
        "id": "esOLA6b8nHWg",
        "colab_type": "text"
      },
      "source": [
        "\n",
        "By now, you probably noticed that the main function you are using in Matplotlib is the ```plot``` function.\n",
        "This function accepts arrays of x and y coordinates and optional arguments such as color and line style and figure size.\n",
        "\n",
        "```\n",
        "ax.plot(x,y,'g--')\n",
        "```\n",
        "\n",
        "We can show the same plot more explicitly by adding a linestyle:\n",
        "\n",
        "```\n",
        "ax.plot(x,y,linestyle='--',color='g')\n",
        "```\n",
        "\n",
        "Line plots can also have *markers* in order to highlight the actual data points. \n",
        "\n",
        "When Matlab creates plots, they are a continuous line plot (interpolating between points), it can occasionally be unclear where the points are. Markers help us observe the *interpolation* in a clearer manner. \n",
        "\n",
        "*I used interpolation here because it's a more mathematical term when it comes to plot points. with respect to a given axis (in our case data). What it really means in our case is plotting y with respect to x.*"
      ]
    },
    {
      "cell_type": "code",
      "metadata": {
        "colab_type": "code",
        "id": "JTJNppqUXtR4",
        "colab": {}
      },
      "source": [
        "fig = plt.figure() ## figsize= (20,10)\n",
        "ax1 = fig.add_subplot(2,1,1)\n",
        "ax2 = fig.add_subplot(2,1,2)\n",
        "\n",
        "plt.plot(df['AA'],'bo--') # Plot 2\n",
        "# Which is the same as:\n",
        "ax1.plot(df['AAPL'],color = 'b',linestyle = '--',marker = 'o') # Plot 1\n",
        "\n"
      ],
      "execution_count": null,
      "outputs": []
    },
    {
      "cell_type": "markdown",
      "metadata": {
        "colab_type": "text",
        "id": "34VUlmV3P6Fg"
      },
      "source": [
        "For line plots, we can notice that the points are interpolated linearly by default.\n",
        "\n",
        "We can change this by using the ```drawstyle``` option. The drawstyle determines how the points are connected"
      ]
    },
    {
      "cell_type": "code",
      "metadata": {
        "colab_type": "code",
        "id": "CqBOiEcwZe5E",
        "colab": {}
      },
      "source": [
        "plt.plot(df['IBM'],'k--',label = 'Default')\n",
        "plt.plot(df['GE'],'k-',drawstyle = 'steps-post',label = 'steps-post')\n",
        "plt.legend()"
      ],
      "execution_count": null,
      "outputs": []
    },
    {
      "cell_type": "markdown",
      "metadata": {
        "colab_type": "text",
        "id": "n0brTzHJHPzt"
      },
      "source": [
        "## 2.0 - Now Try This:\n",
        "1. Create a new ```plt.figure()``` with and added parameter```figsize = (20,10)```\n",
        "2. Create two separate ```plt.plots``` with ```df['AAPL']``` and ```df['MSFT']``` respectively.\n",
        "3. for the first plot:\n",
        "    - set linestyle  as ```'-'``` \n",
        "    - set color as ```'b'```\n",
        "    - add a label and name it after the specific stock\n",
        "4. for the second plot:\n",
        "    - set linestyle as ```'--'```\n",
        "    - set color as ```g````\n",
        "    - add a ```drawstyle```\n",
        "5. add ```plt.legend()```\n",
        "\n",
        "\n",
        "**Answer**:"
      ]
    },
    {
      "cell_type": "code",
      "metadata": {
        "id": "bTiKXcBsdMQg",
        "colab_type": "code",
        "colab": {}
      },
      "source": [
        "#Once your have verified your answer please uncomment the line below and run it, this will save your code \n",
        "#%%writefile -a {folder_location}/2.py\n",
        "#Please note that if you uncomment and run multiple times, the program will keep appending to the file.\n",
        "\n",
        "# INSERT CODE HERE\n",
        "# INSERT CODE HERE\n",
        "# INSERT CODE HERE\n",
        "# INSERT CODE HERE"
      ],
      "execution_count": null,
      "outputs": []
    },
    {
      "cell_type": "markdown",
      "metadata": {
        "colab_type": "text",
        "id": "Il-J52Odi77b"
      },
      "source": [
        "### Hint:"
      ]
    },
    {
      "cell_type": "markdown",
      "metadata": {
        "colab_type": "text",
        "id": "dHdEQUtoi77d"
      },
      "source": [
        "This is what the output should look like:\n",
        "\n",
        "![out_2](https://github.com/bitprj/DigitalHistory/blob/master/Week4-Introduction-to-data-visualization-and-graphs-with-matplotlib/assets/NTT4Plots/Q2.png?raw=true)"
      ]
    },
    {
      "cell_type": "markdown",
      "metadata": {
        "colab_type": "text",
        "id": "td64fxuYZzd4"
      },
      "source": [
        "# Ticks, Labels and Legends\n",
        "\n"
      ]
    },
    {
      "cell_type": "markdown",
      "metadata": {
        "id": "10Ak5F16nL69",
        "colab_type": "text"
      },
      "source": [
        "The ```pyplot``` interface designed for interactive use, consists of methods like:\n",
        "- ```xlim```\n",
        "- ```xticks```\n",
        "- ```xticklabels```\n",
        "\n",
        "These methods control the plot range, tick locations, and tick labels.\n",
        "There are two ways to apply such parameters:\n",
        "1. Called with no arguments returns the current parameter value (e.g, ```plt.xlim()``` returns the current x-axis plotting range.\n",
        "2. Called with parameters sets the parameter value(e.g, plt.xlim([0,10]),sets the x-axis range from 0 to 10)\n",
        "\n",
        "**Setting the title, axis labels, ticks, and ticklabels**\n",
        "\n",
        "Let's look at the plot below:"
      ]
    },
    {
      "cell_type": "code",
      "metadata": {
        "colab_type": "code",
        "id": "g9nKgo4je7ZG",
        "colab": {}
      },
      "source": [
        "fig = plt.figure(figsize= (20,10))\n",
        "ax = fig.add_subplot(1,1,1)\n",
        "ax.plot(df['AA'])"
      ],
      "execution_count": null,
      "outputs": []
    },
    {
      "cell_type": "markdown",
      "metadata": {
        "colab_type": "text",
        "id": "jn5FHf9xfCv2"
      },
      "source": [
        "**Next**, we are going to change the x-axis ticks, it's easier to use ```set_xticks``` and ```set_xticklabels```. The former instructs matplot lib where to place the ticks along with the date range. However, we can set any other values as the labels using set_xticklabels: "
      ]
    },
    {
      "cell_type": "code",
      "metadata": {
        "colab_type": "code",
        "id": "8joZKywApTmY",
        "colab": {}
      },
      "source": [
        "labels = ax.set_xticklabels(['one','two','three','four','five','six','seven'],\n",
        "                            rotation = 30,\n",
        "                            fontsize = 'small')"
      ],
      "execution_count": null,
      "outputs": []
    },
    {
      "cell_type": "markdown",
      "metadata": {
        "colab_type": "text",
        "id": "UTl9nNTlpnBe"
      },
      "source": [
        "The ```rotation``` option sets the x-tick labels at a 30-degree rotation.\n",
        "Lastly, ```set_xlabel``` gives a name to the x-axis and ```set_title``` the subplot title."
      ]
    },
    {
      "cell_type": "code",
      "metadata": {
        "colab_type": "code",
        "id": "NYMxuU3Bp2BQ",
        "colab": {}
      },
      "source": [
        "ax.set_title('My first matplotlib plot')\n",
        "fig"
      ],
      "execution_count": null,
      "outputs": []
    },
    {
      "cell_type": "code",
      "metadata": {
        "colab_type": "code",
        "id": "GZo2fLRIp53P",
        "colab": {}
      },
      "source": [
        "ax.set_xlabel('Stages')\n",
        "fig"
      ],
      "execution_count": null,
      "outputs": []
    },
    {
      "cell_type": "code",
      "metadata": {
        "colab_type": "code",
        "id": "qpljURnzHP0D",
        "colab": {}
      },
      "source": [
        "ax.plot(df['GE'])\n",
        "fig"
      ],
      "execution_count": null,
      "outputs": []
    },
    {
      "cell_type": "code",
      "metadata": {
        "colab_type": "code",
        "id": "niA0UNAzqpj9",
        "colab": {}
      },
      "source": [
        "# Bonus: we can also write this as:\n",
        "props = {\n",
        "    'title': 'This is a trend for stock market prices',\n",
        "    'xlabel': 'All stages'\n",
        "}\n",
        "ax.set(**props)\n",
        "fig"
      ],
      "execution_count": null,
      "outputs": []
    },
    {
      "cell_type": "markdown",
      "metadata": {
        "colab_type": "text",
        "id": "I-T1q8wRHP0K"
      },
      "source": [
        "## 3.0 - Now Try This:\n",
        "- Use the functional method of programming to build two subplot figures ```ax``` and ```ax1``` respectively.\n",
        "- First create a fig by calling the ```plt.figure``` function, set the ```figsize``` to 20,10.\n",
        "- Create the subplots.\n",
        "**Hint**: ```fig.add_subplot(something,something,something)```.\n",
        "- Plot ```df['AAPL']``` for ```ax```.\n",
        "- Plot ```df['SPX']``` for ```ax1```.\n",
        "- Add tick labels for both ax and ax1\n",
        "    - Name them in the sequence ```['Phase I','Phase II',...,'PHASE VII']```\n",
        "    - Both should have a ```rotation = 45```.\n",
        "- The title for ```ax``` and ```ax1``` by using ```set_title```. The title should be the name of your stock index.\n",
        "- Set xlabel for both charts by using ```set_xlabel``` to 'Stages'\n",
        "\n",
        "\n",
        "**Answer**"
      ]
    },
    {
      "cell_type": "code",
      "metadata": {
        "id": "j2WTmeEkdMSN",
        "colab_type": "code",
        "colab": {}
      },
      "source": [
        "#Once your have verified your answer please uncomment the line below and run it, this will save your code \n",
        "#%%writefile -a {folder_location}/3.py\n",
        "#Please note that if you uncomment and run multiple times, the program will keep appending to the file.\n",
        "\n",
        "# INSERT CODE HERE\n",
        "# INSERT CODE HERE\n",
        "# INSERT CODE HERE\n",
        "# INSERT CODE HERE\n",
        "# INSERT CODE HERE\n",
        "\n",
        "# INSERT CODE HERE\n",
        "\n",
        "# INSERT CODE HERE\n",
        "# INSERT CODE HERE\n",
        "    \n",
        "# INSERT CODE HERE\n",
        "# INSERT CODE HERE"
      ],
      "execution_count": null,
      "outputs": []
    },
    {
      "cell_type": "markdown",
      "metadata": {
        "colab_type": "text",
        "id": "FMoZmqfijIsc"
      },
      "source": [
        "### Hint:"
      ]
    },
    {
      "cell_type": "markdown",
      "metadata": {
        "colab_type": "text",
        "id": "qYDCx-pLjIsf"
      },
      "source": [
        "This is what the output should look like:\n",
        "\n",
        "![out_3](https://github.com/bitprj/DigitalHistory/blob/master/Week4-Introduction-to-data-visualization-and-graphs-with-matplotlib/assets/NTT4Plots/Q3.png?raw=true)"
      ]
    },
    {
      "cell_type": "markdown",
      "metadata": {
        "colab_type": "text",
        "id": "TRJ7kgfvt7-L"
      },
      "source": [
        "### Adding Legends\n",
        "\n",
        "Legends are an important element in order to identify our elements. The easiset way to add one is to pass the label argument when adding each piece"
      ]
    },
    {
      "cell_type": "code",
      "metadata": {
        "colab_type": "code",
        "id": "1VQSDQeiuIC6",
        "colab": {}
      },
      "source": [
        "fig = plt.figure(figsize = (20,10))\n",
        "\n",
        "ax=fig.add_subplot(1,1,1)\n",
        "ax.plot(df['MSFT'],\n",
        "        'b',        # Color blue\n",
        "        label ='MSFT')\n",
        "ax.plot(df['AA'],\n",
        "        'r--',      # Color red, with dashed lines\n",
        "        label = 'AA')\n",
        "ax.plot(df['GE'],   # Green with dots as indicators\n",
        "        'g.',\n",
        "        label = 'GE')"
      ],
      "execution_count": null,
      "outputs": []
    },
    {
      "cell_type": "code",
      "metadata": {
        "colab_type": "code",
        "id": "Ai5rJ-VTu8Wh",
        "colab": {}
      },
      "source": [
        "ax.legend(loc = 'best') # The loc method tells matplotlib where to place the plot. \n",
        "                        # if you're not picky 'best' works.\n",
        "fig"
      ],
      "execution_count": null,
      "outputs": []
    },
    {
      "cell_type": "markdown",
      "metadata": {
        "colab_type": "text",
        "id": "d6Zph8pixjQ1"
      },
      "source": [
        "## Saving plots to File\n",
        "We can save the active figure to file using plt.savefig. This method is equivalent to the figure object's ```savefig``` instane method.\n",
        "\n",
        "Examples:\n",
        "\n",
        "```\n",
        "plt.savefig('figpath.avg')\n",
        "```\n",
        "\n",
        "*Note: The file type is inferred from the file extension. So for example if we used .pdf instead, we woulg get a pdf.*\n",
        "\n",
        "Some important options for publishing graphics are:\n",
        "- ```\n",
        "dpi\n",
        "``` : controls the dots-per-inch resolution.\n",
        "- ```\n",
        "bbox_inches\n",
        "``` : Trims the whitespace around the actual figure.The options in bbox_inches are 'tight' or 'None'.\n",
        "\n",
        "- ```\n",
        " plt.savefig('figpath.avg',dpi = 400,bbox_inches = 'tight')\n",
        "```\n",
        "\n",
        "We can save the previous graph by simply running the following command:"
      ]
    },
    {
      "cell_type": "code",
      "metadata": {
        "id": "wuU_NlC4hOW6",
        "colab_type": "code",
        "colab": {}
      },
      "source": [
        "plt.savefig('microsoft-apple-ge-stocks.jpeg')"
      ],
      "execution_count": null,
      "outputs": []
    },
    {
      "cell_type": "code",
      "metadata": {
        "colab_type": "code",
        "id": "pUYqm1XIHP0V",
        "colab": {}
      },
      "source": [
        "# OR\n",
        "plt.savefig('microsoft-apple-ge-stocks.jpeg',dpi = 400,bbox_inchez = 'tight')"
      ],
      "execution_count": null,
      "outputs": []
    },
    {
      "cell_type": "markdown",
      "metadata": {
        "colab_type": "text",
        "id": "74wjAxvtHP0Z"
      },
      "source": [
        "## 4.0 - Now Try This:\n",
        "\n",
        "For this exercise you will be plotting a single graph with 3 line plots (dataframe columns) and adding a legend to it. Here are some important notes:\n",
        "- figsize = (20,10)\n",
        "- The data should be distinguishble between the different stocks\n",
        "- Save the image as ```NAMESTOCK1-NAMESTOCK2-NAMESTOCK3.jpeg```\n",
        "\n",
        "*Note: the line of code to save the image should be before the ```plt.show()``` method (which is always the last)\n",
        "\n",
        "**Answer**"
      ]
    },
    {
      "cell_type": "code",
      "metadata": {
        "id": "TDSp9C_5dMTG",
        "colab_type": "code",
        "colab": {}
      },
      "source": [
        "#Once your have verified your answer please uncomment the line below and run it, this will save your code \n",
        "#%%writefile -a {folder_location}/4.py\n",
        "#Please note that if you uncomment and run multiple times, the program will keep appending to the file.\n",
        "\n",
        "\n",
        "plt.figure( #INSERT CODE HERE)\n",
        "\n",
        "plt.plot( #INSERT CODE HERE)\n",
        "plt.plot( #INSERT CODE HERE)\n",
        "plt.plot( #INSERT CODE HERE )\n",
        "\n",
        "plt.title(#INSERT CODE HERE )\n",
        "#INSERT CODE HERE\n",
        "#INSERT CODE HERE\n",
        "#INSERT CODE HERE"
      ],
      "execution_count": null,
      "outputs": []
    },
    {
      "cell_type": "markdown",
      "metadata": {
        "colab_type": "text",
        "id": "77-v3L5sjOma"
      },
      "source": [
        "### Hint:"
      ]
    },
    {
      "cell_type": "markdown",
      "metadata": {
        "colab_type": "text",
        "id": "763Qe3d0jOmb"
      },
      "source": [
        "This is what the output should look like:\n",
        "\n",
        "*Note : Don't worry about the colors*\n",
        "\n",
        "![out_4](https://github.com/bitprj/DigitalHistory/blob/master/Week4-Introduction-to-data-visualization-and-graphs-with-matplotlib/assets/NTT4Plots/Q4.png?raw=true)"
      ]
    },
    {
      "cell_type": "markdown",
      "metadata": {
        "colab_type": "text",
        "id": "SzYYJR7OHP0a"
      },
      "source": [
        "# Types of Graphs and Charts"
      ]
    },
    {
      "cell_type": "markdown",
      "metadata": {
        "colab_type": "text",
        "id": "b_PybB1Ve78y"
      },
      "source": [
        "# Bar Graphs\n",
        "\n"
      ]
    },
    {
      "cell_type": "markdown",
      "metadata": {
        "id": "vjunkWiBnRrW",
        "colab_type": "text"
      },
      "source": [
        "- This type of graph is a good choice when we want to show that *some quantity varies amound some discrete set of items*. \n",
        "\n",
        "### Example :\n",
        "#### How many academy awards were won by each movie"
      ]
    },
    {
      "cell_type": "code",
      "metadata": {
        "colab_type": "code",
        "id": "yYzMUY5fesYI",
        "colab": {}
      },
      "source": [
        "movies = [\"Annie Hall\",\"Ben-Hur\",\"Casablanca\",\"Gandhi\",\"West Side Story\"]\n",
        "num_of_oscars = [5,11,3,8,10]\n",
        "\n",
        "# plot bars with \n",
        "# x-cordinates [movies]\n",
        "# y-cordinates [num_of_oscars]\n",
        "plt.bar(movies,num_of_oscars)\n",
        "\n",
        "# add title\n",
        "plt.title(\"My favourite Movies\")\n",
        "\n",
        "# label the y-axis\n",
        "plt.ylabel(\"# of Academy Awards\")\n",
        "# Label x-axis with movie titles\n",
        "plt.xlabel('Movies')\n",
        "plt.show()"
      ],
      "execution_count": null,
      "outputs": []
    },
    {
      "cell_type": "markdown",
      "metadata": {
        "id": "lNQWhCUMFGix",
        "colab_type": "text"
      },
      "source": [
        "In the code above movies is our ```x-axis```, so we are measuring the quantities with respect to the movie names. This makes our ```y-axis```, ```num_of_oscars```.\n",
        "\n",
        "- To plot the bar plot we use the ```plt.bar``` and declare the x and y inside.\n"
      ]
    },
    {
      "cell_type": "markdown",
      "metadata": {
        "id": "BivIm0p8dMUm",
        "colab_type": "text"
      },
      "source": [
        "##  5.0 Now Try This:\n",
        "In the next cell, I have added two list types by the name of ```cal_state``` and ```enrollment```. Your task is to do the following\n",
        "- Check if the two lists.\n",
        "**Hint**: Use one ```if``` and one ```else``` statmenent to check if the two lists are equal using ```len()``` to comapare the two.\n",
        "- If lists are not equal, find the error.\n",
        "- Create a ```plt.figure``` with a size of (20,10).\n",
        "- Plot the bar plot of ```cal_states``` vs ```enrollemnts```. \n",
        "- Add a ```title```, ```ylabel``` and ```xticks```.\n",
        "- Set the ```rotation``` for the ```x-ticks``` to 90.\n",
        "\n",
        "**Answer**:"
      ]
    },
    {
      "cell_type": "code",
      "metadata": {
        "id": "4x7DKVfmdMUv",
        "colab_type": "code",
        "colab": {}
      },
      "source": [
        "#Once your have verified your answer please uncomment the line below and run it, this will save your code \n",
        "#%%writefile -a {folder_location}/5.py\n",
        "#Please note that if you uncomment and run multiple times, the program will keep appending to the file.\n",
        "\n",
        "cal_states= ['Bakersfield','Channel Islands','Chico','Dominguez Hills','East Bay','Fresno','Fullerton''Humboldt','Long Beach','Los Angeles','Maritime Academy','Monterey Bay','Northridge','Pomona','Sacramento','San Bernardino','San Diego','San Francisco','San José','San Luis Obispo','San Marcos','Sonoma','Stanislaus','International Programs','CalState TEACH']\n",
        "enrollment = [11199,7093,17019,17027,14705,24139,39868,6983,38074,26361,911,7123,38391,27914,31156,20311,35081,28880,33282,21242,14519,8649,10614,455,933]\n",
        "\n",
        "## INSERT CODE HERE\n",
        "\n",
        "if ## INSERT THE CODE HERE  \n",
        "    print('These are not equal')\n",
        "## INSERT CODE HERE\n",
        "    print('There are equal, you may proceed')\n",
        "    \n",
        "## INSERT CODE HERE\n",
        "\n",
        "# add title\n",
        "# INSERT CODE HERE\n",
        "\n",
        "# label the y-axis\n",
        "# INSERT CODE HERE\n",
        "\n",
        "# Label x-axis with movie titles\n",
        "#INSERT CODE HERE\n",
        "\n",
        "# INSERT CODE HERE\n"
      ],
      "execution_count": null,
      "outputs": []
    },
    {
      "cell_type": "markdown",
      "metadata": {
        "colab_type": "text",
        "id": "U_gPMe8pjiAO"
      },
      "source": [
        "### Hint:"
      ]
    },
    {
      "cell_type": "markdown",
      "metadata": {
        "colab_type": "text",
        "id": "lxG9TONcjiAP"
      },
      "source": [
        "This is what the output should look like:\n",
        "\n",
        "![out_5](https://github.com/bitprj/DigitalHistory/blob/master/Week4-Introduction-to-data-visualization-and-graphs-with-matplotlib/assets/NTT4Plots/Q5.png?raw=true)"
      ]
    },
    {
      "cell_type": "markdown",
      "metadata": {
        "id": "jM5LDeuxdMVZ",
        "colab_type": "text"
      },
      "source": [
        "**Extra**:\n",
        "    Convert the two columns into a single dataFrame"
      ]
    },
    {
      "cell_type": "markdown",
      "metadata": {
        "colab_type": "text",
        "id": "3RJmAj_vf373"
      },
      "source": [
        "Another good use of a bar chart can be for plotting histograms of numeric values (bucketed). This can help us visualize distributions.\n",
        "\n",
        "## Example:\n",
        "### Grade Distribution"
      ]
    },
    {
      "cell_type": "code",
      "metadata": {
        "colab_type": "code",
        "id": "W2val3SgfyoP",
        "colab": {}
      },
      "source": [
        "from collections import Counter\n",
        "grades = [83,95,91,87,70,0,85,82,100,67,73,77,0]\n",
        "\n",
        "\n",
        "# Buckt grades by decile, but put 100 in with the 90s\n",
        "\n",
        "histogram = Counter(min(grade//10*10,90)for grade in grades)\n",
        "\n",
        "plt.bar([x + 5 for x in histogram.keys()],    # Shift bars right by 5\n",
        "        histogram.values(),             # Give each bar its correct height\n",
        "        10,                             # Give each bar a width of 10\n",
        "        edgecolor = (0,0,0)             # Black edges for each bar\n",
        "        )            \n",
        "\n",
        "plt.axis([-5,105,0,5])                  # x-axis from -5 to 105\n",
        "                                        # y-axis from 0 to 5\n",
        "\n",
        "plt.xticks([10 * i for i in range(11)]) # x-axis labels at 0,10, ..., 100\n",
        "\n",
        "plt.xlabel(\"Decile\")\n",
        "plt.ylabel(\"# of Students\")\n",
        "plt.title(\"Distribution of Exam Grades\")\n",
        "plt.show()"
      ],
      "execution_count": null,
      "outputs": []
    },
    {
      "cell_type": "markdown",
      "metadata": {
        "colab_type": "text",
        "id": "_6-Tl4gAhcvC"
      },
      "source": [
        "### Examining the code\n",
        "- Notice the third argument to the ```plt.bar```, this specified the bar width. \n",
        "- We also shifted the bars right by 5, so that, for example, the \"10\" bar (which corresponds to 10-20 would have its center at 15).\n",
        "- We also added a black edge to each bar to make them visually distinct\n",
        "- The call to ```plt.axis``` indicates that we want the x-axis to range from -5 to 105 (to leave a little space on the left and right)\n",
        "- The y-axis should range from 0 to 5\n",
        "- Lastly, ```plt.xticks``` puts x-axis labels at 0,10,20, ..., 100."
      ]
    },
    {
      "cell_type": "markdown",
      "metadata": {
        "id": "qQ5S8vwHdMVo",
        "colab_type": "text"
      },
      "source": [
        "This is a tricky example with more parameters than previously explained but, don't worry, we just want to you to observe the code."
      ]
    },
    {
      "cell_type": "markdown",
      "metadata": {
        "id": "dbk1jUa3dMVx",
        "colab_type": "text"
      },
      "source": [
        "# Histograms"
      ]
    },
    {
      "cell_type": "markdown",
      "metadata": {
        "id": "neUuz-0mdMVz",
        "colab_type": "text"
      },
      "source": [
        "Luckily, you won't have to manually set up plots when you're working with ```DataFrames```.\n",
        "\n",
        "We can just declare the column we are using inside the ```plt.hist()``` method and define the column inside as ```df['AAPL']```. We will also make another parameter call which is bins. ```bins``` means the number of columns we want our x-axis to be divided into.\n",
        "\n",
        "Example: if your x-axis is from 0 to 100 and you declare bins as 10, 0 to 10, would be enclosed in 1 bin, 11-20 in the second all the way to the 10th bin."
      ]
    },
    {
      "cell_type": "code",
      "metadata": {
        "colab_type": "code",
        "id": "XNno3m_lHP0m",
        "colab": {}
      },
      "source": [
        "plt.hist(df['AAPL'],bins = 20)"
      ],
      "execution_count": null,
      "outputs": []
    },
    {
      "cell_type": "markdown",
      "metadata": {
        "id": "aFGGwRftdMV-",
        "colab_type": "text"
      },
      "source": [
        "## 6.0 Now Try this\n",
        "I want to be able to see the frequency of a value in the SPX Index. I can do this by plotting a histogram of the respective index.\n",
        "\n",
        "- Plot a ```hist``` for the ```SPX``` column.\n",
        "- Set the ```bins``` to 30.\n",
        "\n",
        "**Answer**:"
      ]
    },
    {
      "cell_type": "code",
      "metadata": {
        "id": "RENHkatEdMWA",
        "colab_type": "code",
        "colab": {}
      },
      "source": [
        "#Once your have verified your answer please uncomment the line below and run it, this will save your code \n",
        "#%%writefile -a {folder_location}/6.py\n",
        "#Please note that if you uncomment and run multiple times, the program will keep appending to the file.\n",
        "\n",
        "\n",
        "# INSERT CODE HERE"
      ],
      "execution_count": null,
      "outputs": []
    },
    {
      "cell_type": "markdown",
      "metadata": {
        "id": "YSEO9d60jqvj",
        "colab_type": "text"
      },
      "source": [
        "### Hint:"
      ]
    },
    {
      "cell_type": "markdown",
      "metadata": {
        "id": "IHXi29s2jsTy",
        "colab_type": "text"
      },
      "source": [
        "This is what the output should look like:\n",
        "\n",
        "![out_6](https://github.com/bitprj/DigitalHistory/blob/master/Week4-Introduction-to-data-visualization-and-graphs-with-matplotlib/assets/NTT4Plots/Q6.png?raw=true)"
      ]
    },
    {
      "cell_type": "markdown",
      "metadata": {
        "colab_type": "text",
        "id": "tFyvGzAfqvwp"
      },
      "source": [
        "# Line Charts\n",
        "\n",
        "The good thing is it is easy to make line charts simple using ```plt.plot``` these are good for showing trends.\n"
      ]
    },
    {
      "cell_type": "code",
      "metadata": {
        "colab_type": "code",
        "id": "SmEB_wploNkG",
        "colab": {}
      },
      "source": [
        "years = [1950,1960,1970,1980,1990,2000,2010]\n",
        "gdp = [300.2,543.2,1075.9,2862.5,5979.6,10289.7,14958.3]\n",
        "\n",
        "# Create a line chart, \n",
        "# x-axis : years\n",
        "# y-axis : gdp\n",
        "\n",
        "plt.plot(years,gdp,color = 'red',marker = 'x',linestyle = 'solid')\n",
        "\n",
        "# add a title \n",
        "plt.title(\"Nominal GDP\")\n",
        "\n",
        "# Add a label to the y-axis\n",
        "plt.ylabel(\"Billions of $\")\n",
        "plt.show()"
      ],
      "execution_count": null,
      "outputs": []
    },
    {
      "cell_type": "code",
      "metadata": {
        "colab_type": "code",
        "id": "WMzHBn8khZlS",
        "colab": {}
      },
      "source": [
        "variance = [1,2,4,8,16,32,64,128,256]\n",
        "bias_squared = [256,128,64,43,16,18,4,2,1]\n",
        "total_error = [x + y for x,y in zip(variance,bias_squared)]\n",
        "xs = [i for i, _ in enumerate(variance)]\n",
        "\n",
        "\n",
        "# We can make multiple calls to plt.plot\n",
        "# to show multiple series on the same chart\n",
        "\n",
        "plt.plot(xs,variance, 'g-', label = 'variance')\n",
        "plt.plot(xs,bias_squared, 'r-.',label = 'bias squared')\n",
        "plt.plot(xs,total_error, 'b:',label = 'total error')\n",
        "\n",
        "\n",
        "# Because we've assigned labels for each series, \n",
        "# we can get a legend \n",
        "plt.legend(loc = 9)\n",
        "plt.xlabel(\"model Complexity\")\n",
        "plt.xticks([])\n",
        "plt.title(\"The Bias-Variance Tradeoff\")\n",
        "plt.show()\n"
      ],
      "execution_count": null,
      "outputs": []
    },
    {
      "cell_type": "markdown",
      "metadata": {
        "colab_type": "text",
        "id": "FvW8BCXOrppq"
      },
      "source": [
        "# Scatterplots\n",
        "\n",
        "A scatter plot is the right choice for visualizing the relationship between two paired sets of data. \n"
      ]
    },
    {
      "cell_type": "code",
      "metadata": {
        "colab_type": "code",
        "id": "qUwiPnL7rm4R",
        "colab": {}
      },
      "source": [
        "friends = [70,65,72,63,71,64,60,64,67]\n",
        "minutes = [175,170,205,120,220,130,105,145,190]\n",
        "labels = ['a','b','c','d','e','f','g','h','i']\n",
        "\n",
        "plt.scatter(friends,minutes)\n",
        "\n",
        "# label each point \n",
        "for label,friend_count,minute_count in zip(labels,friends,minutes):\n",
        "  plt.annotate(label,\n",
        "               xy=(friend_count,minute_count), # Put the label with its point\n",
        "               xytext = (5,-5),\n",
        "               textcoords = 'offset points'\n",
        "               )\n",
        "  \n",
        "plt.title(\"Daily minutes vs Number of Friends\")\n",
        "plt.xlabel(\"# of friends\")\n",
        "plt.ylabel(\"Daily minutes spent on the site\")\n",
        "plt.show()"
      ],
      "execution_count": null,
      "outputs": []
    },
    {
      "cell_type": "markdown",
      "metadata": {
        "id": "GzaHjv-zdMW3",
        "colab_type": "text"
      },
      "source": [
        "## 7.0 Now Try This:\n",
        "\n",
        "- Use the ```plt.figure()``` method to plot a ```scatter``` plot for the ```SPX``` column.\n",
        "- For the ```x-axis``` use ```df.index.values``` for the first parameter and the column for the second.\n",
        "- The figure size of this plot should be (20,10).\n",
        "\n",
        "**Answer**:"
      ]
    },
    {
      "cell_type": "code",
      "metadata": {
        "id": "RTKsWIZSdMW4",
        "colab_type": "code",
        "colab": {}
      },
      "source": [
        "#Once your have verified your answer please uncomment the line below and run it, this will save your code \n",
        "#%%writefile -a {folder_location}/7.py\n",
        "#Please note that if you uncomment and run multiple times, the program will keep appending to the file.\n",
        "\n",
        "\n",
        "# INSERT CODE HERE\n",
        "# INSERT CODE HERE"
      ],
      "execution_count": null,
      "outputs": []
    },
    {
      "cell_type": "markdown",
      "metadata": {
        "id": "o1qUKmNCj7Uo",
        "colab_type": "text"
      },
      "source": [
        "### Hint:\n"
      ]
    },
    {
      "cell_type": "markdown",
      "metadata": {
        "id": "cwi_CTp0j8WE",
        "colab_type": "text"
      },
      "source": [
        "This is what the output should look like:\n",
        "\n",
        "![out_7](https://github.com/bitprj/DigitalHistory/blob/master/Week4-Introduction-to-data-visualization-and-graphs-with-matplotlib/assets/NTT4Plots/Q7.png?raw=true)"
      ]
    },
    {
      "cell_type": "markdown",
      "metadata": {
        "colab_type": "text",
        "id": "S_i8Zy2YthqR"
      },
      "source": [
        "# Tutorial \n",
        "\n",
        "\n"
      ]
    },
    {
      "cell_type": "markdown",
      "metadata": {
        "id": "2QHi0OzknYZ4",
        "colab_type": "text"
      },
      "source": [
        "## Mapping the California Housing"
      ]
    },
    {
      "cell_type": "markdown",
      "metadata": {
        "id": "KQXNwtVqnVGc",
        "colab_type": "text"
      },
      "source": [
        "Before we get started, I would recommend you read the information we have added about the dataset [here](#CaliforniaHousing). \n",
        "\n",
        "By this point, we have learned how to use Matplotlib and basic pandas plotting. In this tutorial, we will be focusing on analyzing the housing dataset by simply mapping it. The perk of this exercise is that the whole visualizing can be done using a single method ```df.plot```. \n",
        "\n",
        "It is also important to note that our limitation is that we are restricted to work with numerical data since Matplotlib cannot plot categorical data with numerical. \n",
        "\n",
        "*Note: There is a method to convert categorical into numerical. However, that is not a part of this course.*"
      ]
    },
    {
      "cell_type": "markdown",
      "metadata": {
        "colab_type": "text",
        "id": "N8w70yKWOH_c"
      },
      "source": [
        "## Import Libraries and unpack file\n",
        "\n"
      ]
    },
    {
      "cell_type": "code",
      "metadata": {
        "colab_type": "code",
        "id": "rzDr3KIkOJdy",
        "colab": {}
      },
      "source": [
        "import pandas as pd\n",
        "import zipfile\n",
        "import numpy as np"
      ],
      "execution_count": null,
      "outputs": []
    },
    {
      "cell_type": "markdown",
      "metadata": {
        "colab_type": "text",
        "id": "gtIoP82tQR0k"
      },
      "source": [
        "### Load File"
      ]
    },
    {
      "cell_type": "code",
      "metadata": {
        "colab_type": "code",
        "id": "LHWxrPH3HP0_",
        "colab": {}
      },
      "source": [
        "url = 'https://raw.githubusercontent.com/bitprj/DigitalHistory/master/Week4-Introduction-to-Data-Visualization-Graphs-Charts-and-Tables/data/housing/housing.csv'\n",
        "housing = pd.read_csv(url)\n",
        "housing.head()"
      ],
      "execution_count": null,
      "outputs": []
    },
    {
      "cell_type": "markdown",
      "metadata": {
        "colab_type": "text",
        "id": "PnhcCIIWzmP3"
      },
      "source": [
        "Each row represents one district. There are 10 attributes (you can see the first\n",
        "6 in the screenshot): ```longitude```, ```latitude```, ```housing_median_age```,\n",
        "```total_rooms```, ```total_bedrooms```, ```population```, ```households```, ```median_income```,\n",
        "```median_house_value```, and ```ocean_proximity```"
      ]
    },
    {
      "cell_type": "code",
      "metadata": {
        "colab_type": "code",
        "id": "aFuWxHIJHP1R",
        "colab": {}
      },
      "source": [
        "# %% [code]\n",
        "# info functions helps us to understand the data type of all the columns\n",
        "housing.info()"
      ],
      "execution_count": null,
      "outputs": []
    },
    {
      "cell_type": "markdown",
      "metadata": {
        "colab_type": "text",
        "id": "F1B1vmr9x3Ug"
      },
      "source": [
        "All attributes are numerical, except the ```ocean_proximity``` field. Its type is\n",
        "```object```, so it could hold any kind of Python object. But, since you loaded this\n",
        "data from a ```CSV``` file, you know that it must be a text attribute. When you\n",
        "looked at the top five rows, you probably noticed that the values in the\n",
        "```ocean_proximity``` column was repetitive, which means that it is probably a\n",
        "categorical attribute. "
      ]
    },
    {
      "cell_type": "code",
      "metadata": {
        "colab_type": "code",
        "id": "FridtQkOHP1N",
        "colab": {}
      },
      "source": [
        "# describe function gives a summary like mean, quartiles, median, std, count, etc for the numeric columns\n",
        "housing.describe()"
      ],
      "execution_count": null,
      "outputs": []
    },
    {
      "cell_type": "markdown",
      "metadata": {
        "colab_type": "text",
        "id": "WdcYBpfVzGr9"
      },
      "source": [
        "The count, mean, min, and max rows are self-explanatory. \n",
        "\n",
        "Note that the null\n",
        "values are ignored (so, for example, the count of total_bedrooms is 20,433,\n",
        "not 20,640). The std row shows the standard deviation, which measures how\n",
        "dispersed the values are. The 25%, 50%, and 75% rows show the\n",
        "corresponding percentiles: a percentile indicates the value below which a\n",
        "given percentage of observations in a group of observations fall. \n",
        "\n",
        "For example,\n",
        "25% of the districts have a housing_median_age lower than 18, while 50%\n",
        "are lower than 29 and 75% are lower than 37. These are often called the 25th\n",
        "percentile (or first quartile), the median, and the 75th percentile (or third\n",
        "quartile).\n",
        "\n",
        "\n",
        "Another quick way to get a feel of the type of data you are dealing with is to plot a histogram for each numerical attribute. A histogram shows the number\n",
        "of instances (on the vertical axis) that have a given value range (on the\n",
        "horizontal axis). You can plot this one attribute at a time or you can call the hist() method on the whole dataset (as shown in the following code\n",
        "example), and it will plot a histogram for each numerical attribute."
      ]
    },
    {
      "cell_type": "markdown",
      "metadata": {
        "colab_type": "text",
        "id": "qOqgR_NmuHSm"
      },
      "source": [
        "## Visualizing the DataFrame"
      ]
    },
    {
      "cell_type": "markdown",
      "metadata": {
        "id": "uPPzsLaRLNmC",
        "colab_type": "text"
      },
      "source": [
        "To visualize our data frame we will execute the following code:\n",
        "- ```%matplotlb inline``` which ensures that our graphs are displayed inside the notebook cells instead of an external visualization.\n",
        "- We import ```matplotlib.pyplot``` as ```plt```. Note: We already imported this initially at the start of this notebook, therefore it is just a precaution.\n",
        "- We make a histogram of the whole housing dataframe by calling ```housing.hist``` and setting the ```bin``` and ```figize``` parameters inside.\n",
        "\n",
        "- The last call ```plt.show()``` is something you have frequently used by now and is simply used to display the plot."
      ]
    },
    {
      "cell_type": "code",
      "metadata": {
        "colab_type": "code",
        "id": "vts1ahq3zD0P",
        "colab": {}
      },
      "source": [
        "%matplotlib inline  \n",
        "import matplotlib.pyplot as plt\n",
        "housing.hist(bins=50, figsize=(20,15))\n",
        "plt.show()"
      ],
      "execution_count": null,
      "outputs": []
    },
    {
      "cell_type": "markdown",
      "metadata": {
        "colab_type": "text",
        "id": "EawOMQI_0A9l"
      },
      "source": [
        "There are a few things you might notice in these histograms:\n",
        "1. First, the median income attribute does not look like it is expressed\n",
        "in US dollars (USD). After checking with the team that collected the\n",
        "data, you are told that the data has been scaled and capped at 15\n",
        "(actually, 15.0001) for higher median incomes, and at 0.5 (actually,\n",
        "0.4999) for lower median incomes. The numbers represent roughly\n",
        "tens of thousands of dollars (e.g., 3 actually means about $30,000). This kind of data is common but we  should try to understand how the data was computed.\n",
        "\n",
        "2. The housing median age and the median house value were also\n",
        "capped. The latter may be a serious problem since it is your target\n",
        "attribute (your labels). If we want to find patterns for beyond $500,000, then you have two options:\n",
        "\n",
        "  a. Collect proper labels for the districts whose labels were\n",
        "capped.\n",
        "\n",
        "  b. Remove those districts from the training set.\n",
        "\n",
        "3. These attributes have very different scales. We will discuss this later\n",
        "in this chapter when we explore feature scaling.\n",
        "\n",
        "4. Finally, many histograms are tail-heavy: they extend much farther to\n",
        "the right of the median than to the left. Although this is not our concern right now, when it comes to learning algorithms, it's a tricky situation as it is difficult to detect patterns."
      ]
    },
    {
      "cell_type": "code",
      "metadata": {
        "colab_type": "code",
        "id": "h_9pSgVhuM_Z",
        "colab": {}
      },
      "source": [
        "housing[\"median_income\"].hist()"
      ],
      "execution_count": null,
      "outputs": []
    },
    {
      "cell_type": "code",
      "metadata": {
        "colab_type": "code",
        "id": "A87ZUqXpvgrw",
        "colab": {}
      },
      "source": [
        "housing['ocean_proximity'].hist(color = 'red')"
      ],
      "execution_count": null,
      "outputs": []
    },
    {
      "cell_type": "markdown",
      "metadata": {
        "colab_type": "text",
        "id": "6tf6ikSR05uc"
      },
      "source": [
        ""
      ]
    },
    {
      "cell_type": "code",
      "metadata": {
        "colab_type": "code",
        "id": "ABgVREQuHP1m",
        "colab": {}
      },
      "source": [
        "housing.plot(x = 'median_income',\n",
        "             y = 'median_house_value',\n",
        "             kind = 'scatter',\n",
        "             alpha = 0.1)\n",
        "plt.show()"
      ],
      "execution_count": null,
      "outputs": []
    },
    {
      "cell_type": "markdown",
      "metadata": {
        "colab_type": "text",
        "id": "mNk2hWO-yne9"
      },
      "source": [
        "This plot reveals a few things. First, the correlation is indeed very strong; we\n",
        "can  see the upward trend, and the points are not too dispersed. Second,\n",
        "the price cap that we noticed earlier is visible as a horizontal line at\n",
        "$500,000. \n",
        "\n",
        "But this plot reveals other less obvious straight lines: a horizontal\n",
        "line around 450,000, another around \n",
        "350,000, perhaps one around $280,000,\n",
        "and a few more below that."
      ]
    },
    {
      "cell_type": "markdown",
      "metadata": {
        "colab_type": "text",
        "id": "fklhI1m5uuEE"
      },
      "source": [
        "## Mapping Geographical Data"
      ]
    },
    {
      "cell_type": "markdown",
      "metadata": {
        "colab_type": "text",
        "id": "5qu9w8W4uy67"
      },
      "source": [
        "### Step 1\n"
      ]
    },
    {
      "cell_type": "code",
      "metadata": {
        "colab_type": "code",
        "id": "QEcxSubTuP9p",
        "colab": {}
      },
      "source": [
        "housing.plot(kind=\"scatter\", x=\"longitude\", y=\"latitude\")\n"
      ],
      "execution_count": null,
      "outputs": []
    },
    {
      "cell_type": "markdown",
      "metadata": {
        "colab_type": "text",
        "id": "D28LW1V2vxFb"
      },
      "source": [
        "### Observation:\n",
        "By plotting the longitude vs the latitude, we can see that it's California. However, note that it's almost impossible to see any particular pattern. \n",
        "The next step is to be able to separate the high-density data points from the lower ones. \n",
        "\n",
        "For this, we will use the ```alpha``` option in the plot function. We will set alpha to ```0.1```. \n",
        "\n",
        "#### What is Alpha?\n",
        "*Matplotlib* allows you to adjust the transparency of a graph plot using the alpha attribute. If you want to make the graph plot more transparent, then you can make ```alpha``` less than ```1```, such as ```0.5``` or ```0.25```. If you want to make the graph plot less transparent, then you can make alpha greater than ```1```."
      ]
    },
    {
      "cell_type": "markdown",
      "metadata": {
        "colab_type": "text",
        "id": "orW7C0ogu0PB"
      },
      "source": [
        "### Step 2\n"
      ]
    },
    {
      "cell_type": "code",
      "metadata": {
        "colab_type": "code",
        "id": "yeU_MWvsuTwI",
        "colab": {}
      },
      "source": [
        "housing.plot(kind=\"scatter\", x=\"longitude\", y=\"latitude\", alpha=0.1)\n"
      ],
      "execution_count": null,
      "outputs": []
    },
    {
      "cell_type": "markdown",
      "metadata": {
        "colab_type": "text",
        "id": "ay_wO3Br0x6p"
      },
      "source": [
        "### Observation:\n",
        "You can see the difference between the high-density areas, for example the Bay Area, Los Angeles, San Diego and a little in the Central Valley.\n",
        "\n",
        "Now we have a pattern, but it's not something very useful to us. So, let's play with the visualization a little.\n"
      ]
    },
    {
      "cell_type": "markdown",
      "metadata": {
        "colab_type": "text",
        "id": "9GG3dUtNu1bH"
      },
      "source": [
        "### Step 3"
      ]
    },
    {
      "cell_type": "code",
      "metadata": {
        "colab_type": "code",
        "id": "ZWBwIy7fuXYV",
        "colab": {}
      },
      "source": [
        "housing.plot(kind=\"scatter\",\n",
        "             x=\"longitude\",\n",
        "             y=\"latitude\",\n",
        "             alpha=0.4,\n",
        "             figsize=(10,7),\n",
        "             c=\"median_house_value\", \n",
        "             cmap=plt.get_cmap(\"jet\"),\n",
        "             colorbar=True)\n"
      ],
      "execution_count": null,
      "outputs": []
    },
    {
      "cell_type": "markdown",
      "metadata": {
        "colab_type": "text",
        "id": "JRkca6zhncJj"
      },
      "source": [
        "**Note**: Notice the fact that we are only using pandas's ```df.plot``` function. This is because ```matplotlib.pylot``` features are built-in pandas therefore when we call ```plt.plot()```, it is very similar to the pandas function. Only difference is we directly identify the ```x``` and ```y``` axis. and instead of ```plt``` we connect our dataframe.\n",
        "\n",
        "### Observation\n",
        "In order to gather more information from the data plot, we added four features:\n",
        "- ```figsize = (10,7)```, this is not a necessary parameter but it doesn't hurt add it, since compact plots are difficult to extract data from.\n",
        "- ```c='median_house_value'```, this parameter defines the column we are going color based off of value.\n",
        "- ```cmap= plt.get_cmap('jet')```, this is simple ascribing a color palette to ```c``` in this case I have chosen the color palette available in ```plt``` which is  the jet palette.\n",
        "- ```colorbar = True```, This one makes the color bar visible.\n",
        "\n",
        "\n",
        "\n",
        "\n",
        "\n"
      ]
    },
    {
      "cell_type": "markdown",
      "metadata": {
        "colab_type": "text",
        "id": "IggneU6-nqQV"
      },
      "source": [
        "### Step 4"
      ]
    },
    {
      "cell_type": "markdown",
      "metadata": {
        "colab_type": "text",
        "id": "qL-jVk-VqNuQ"
      },
      "source": [
        "Great, now we have a general idea of where median incomes are high: the coastal areas. But could there also be another factor? Let's add population to our graph and see what we can find."
      ]
    },
    {
      "cell_type": "code",
      "metadata": {
        "colab_type": "code",
        "id": "zjELxkMdnp5y",
        "colab": {}
      },
      "source": [
        "housing.plot(kind=\"scatter\",\n",
        "             x=\"longitude\",\n",
        "             y=\"latitude\",\n",
        "             alpha=0.4,\n",
        "             s =housing[\"population\"]/100,\n",
        "             label=\"population\",\n",
        "             figsize=(20,10),\n",
        "             c=\"median_house_value\", \n",
        "             cmap=plt.get_cmap(\"jet\"),\n",
        "             colorbar=True)\n",
        "plt.legend()\n",
        "\n"
      ],
      "execution_count": null,
      "outputs": []
    },
    {
      "cell_type": "markdown",
      "metadata": {
        "colab_type": "text",
        "id": "v01JMQ6wquWA"
      },
      "source": [
        "### Observation:\n",
        "Let's see what we added in code to do that. In our ```housing.plot()``` function, we added two more parameters:\n",
        "- ```s = housing['population']/100```, this parameter plots the given column as a radius on the map. The reason why we chose to divide it by 100 is in order to make the radius smaller.\n",
        "- ```label = 'population'```, a simple label to mention what the radius is.\n",
        "\n",
        "We also changed the ```figsize``` to make the map larger and wrote ```plt.legend``` outside the function."
      ]
    },
    {
      "cell_type": "markdown",
      "metadata": {
        "colab_type": "text",
        "id": "uAmxWlEY1jtH"
      },
      "source": [
        "## Closing Notes"
      ]
    },
    {
      "cell_type": "markdown",
      "metadata": {
        "colab_type": "text",
        "id": "aDCkLhlz1XaI"
      },
      "source": [
        "By the end of this lesson you should have a clearer idea of:\n",
        "- How to plot ```DataFrames``` using matplotlib and pandas\n",
        "- How to make subplots and set axis.\n",
        "- How documentation such as labels, legends, colors, markers are added too it. \n",
        "- How to plot bar, histogram, scatter, and line plots using lists.\n",
        "- How to plot the longitude and latitude.\n",
        "- How to add a third data parameter with ```df.plot``` by using ```c```.\n",
        "\n",
        "\n",
        "In the next lesson, we will use the basics of Python, Pandas, and Matplot library to clean and visualize a dataset.\n"
      ]
    },
    {
      "cell_type": "markdown",
      "metadata": {
        "id": "Sw_Cv2SRyB_1",
        "colab_type": "text"
      },
      "source": [
        "\n",
        "## Submission\n",
        "Run this code block to download your answers."
      ]
    },
    {
      "cell_type": "code",
      "metadata": {
        "id": "pptJmIZIyBUd",
        "colab_type": "code",
        "colab": {}
      },
      "source": [
        "from google.colab import files\n",
        "!zip -r \"{student_id}.zip\" \"{student_id}\"\n",
        "files.download(f\"{student_id}.zip\")"
      ],
      "execution_count": null,
      "outputs": []
    },
    {
      "cell_type": "markdown",
      "metadata": {
        "colab_type": "text",
        "id": "mZ5cqQKlnXqa"
      },
      "source": [
        "## Referenes\n",
        "\n",
        "- [What is Data Visualization](https://www.import.io/post/what-is-data-visualization/)\n",
        "- [What Makes A Data Visualisation Elegant?](https://medium.com/nightingale/what-makes-a-data-visualisation-elegant-fb032c3a259e)\n",
        "- [Data Visualization: What It Is, Why It’s Important](https://www.searchenginejournal.com/what-is-data-visualization-why-important-seo/288127/#:~:text=Data%20visualization%20is%20the%20act,outliers%20in%20groups%20of%20data.)\n",
        "- [California Housing Dataset](https://www.kaggle.com/camnugent/california-housing-prices)"
      ]
    },
    {
      "cell_type": "markdown",
      "metadata": {
        "colab_type": "text",
        "id": "OrMZrBB4HP2V"
      },
      "source": [
        "## Appendix"
      ]
    },
    {
      "cell_type": "markdown",
      "metadata": {
        "colab_type": "text",
        "id": "NBlnihmqHP2V"
      },
      "source": [
        "### Plotting Shapes"
      ]
    },
    {
      "cell_type": "code",
      "metadata": {
        "colab_type": "code",
        "id": "6rfZTJbizh8G",
        "colab": {}
      },
      "source": [
        "fig = plt.figure()\n",
        "ax = fig.add_subplot(1,1,1)\n",
        "\n",
        "rect = plt.Rectangle((0.2,0.75),0.4,0.15,color = 'k',\n",
        "                     alpha = 0.3)\n",
        "circ = plt.Circle((0.7,0.2),0.15,color = 'b',alpha = 0.3)\n",
        "pgon = plt.Polygon([[0.15,0.15],[0.35,.4],[0.2,0.6]],color = 'g',alpha = 0.3)\n",
        "\n",
        "ax.add_patch(rect)\n",
        "ax.add_patch(circ)\n",
        "ax.add_patch(pgon)"
      ],
      "execution_count": null,
      "outputs": []
    },
    {
      "cell_type": "markdown",
      "metadata": {
        "colab_type": "text",
        "id": "0FBHDquWv7Wn"
      },
      "source": [
        "### Annotations and Drawing on a Subplot\n",
        "\n",
        "In addition to standard plot types, we may wish to draw our own plot annotations. These can consist of text, arrows or other shapes. We can add annotations and text using the ```text```,```arrow``` and ```annotate``` functions. ```text``` draws test at given coordinates (x,y) on the plot with optional custom syling:\n",
        "\n",
        "```ax.text(x,y,'Hello world!',family='monospace',fontsize=10)```\n"
      ]
    },
    {
      "cell_type": "code",
      "metadata": {
        "colab_type": "code",
        "id": "hSaYBLlqHP2Z",
        "colab": {}
      },
      "source": [
        "from datetime import datetime\n",
        "\n",
        "\n",
        "fig = plt.figure()\n",
        "ax = fig.add_subplot(1,1,1)\n",
        "\n",
        "spx = df['SPX']\n"
      ],
      "execution_count": null,
      "outputs": []
    },
    {
      "cell_type": "code",
      "metadata": {
        "colab_type": "code",
        "id": "K5geMWQ0HP2c",
        "colab": {}
      },
      "source": [
        "spx.plot(ax=ax, style='g-')\n",
        "fig"
      ],
      "execution_count": null,
      "outputs": []
    },
    {
      "cell_type": "code",
      "metadata": {
        "colab_type": "code",
        "id": "02NDYwZRHP2g",
        "colab": {}
      },
      "source": [
        "\n",
        "\n",
        "crisis_data = [\n",
        "    (datetime(2007, 10, 11), 'Peak of bull market'),\n",
        "    (datetime(2008, 3, 12), 'Bear Stearns Fails'),\n",
        "    (datetime(2008, 9, 15), 'Lehman Bankruptcy')\n",
        "]\n",
        "\n",
        "for date, label in crisis_data:\n",
        "    ax.annotate(label, xy=(date, spx.asof(date) + 75),\n",
        "                xytext=(date, spx.asof(date) + 225),\n",
        "                arrowprops=dict(facecolor='black', headwidth=4, width=2,\n",
        "                                headlength=4),\n",
        "                horizontalalignment='left', verticalalignment='top')\n",
        "fig"
      ],
      "execution_count": null,
      "outputs": []
    },
    {
      "cell_type": "code",
      "metadata": {
        "colab_type": "code",
        "id": "mfMSTWLoHP2k",
        "scrolled": false,
        "colab": {}
      },
      "source": [
        "\n",
        "# Zoom in on 2007-2010\n",
        "ax.set_xlim(['1/1/2007', '1/1/2011'])\n",
        "ax.set_ylim([600, 1800])\n",
        "\n",
        "ax.set_title('Important dates in the 2008-2009 financial crisis')\n",
        "fig"
      ],
      "execution_count": null,
      "outputs": []
    },
    {
      "cell_type": "markdown",
      "metadata": {
        "colab_type": "text",
        "id": "L1k1knUeeh9s"
      },
      "source": [
        "The ```plot``` attribute contains a \"family\" of methods for different plot types"
      ]
    },
    {
      "cell_type": "markdown",
      "metadata": {
        "colab_type": "text",
        "id": "ObtE8-BHODkC"
      },
      "source": [
        "## Connecting to Your Google Drive\n"
      ]
    },
    {
      "cell_type": "code",
      "metadata": {
        "colab_type": "code",
        "id": "_3xzPhI_ByD5",
        "colab": {}
      },
      "source": [
        "# Start by connecting google drive into google colab\n",
        "\n",
        "from google.colab import drive\n",
        "\n",
        "drive.mount('/content/gdrive')"
      ],
      "execution_count": null,
      "outputs": []
    },
    {
      "cell_type": "code",
      "metadata": {
        "colab_type": "code",
        "id": "_epZFcuXNVRv",
        "colab": {}
      },
      "source": [
        "!ls \"/content/gdrive/My Drive/DigitalHistory\""
      ],
      "execution_count": null,
      "outputs": []
    },
    {
      "cell_type": "code",
      "metadata": {
        "colab_type": "code",
        "id": "y6r-8UBGNueF",
        "colab": {}
      },
      "source": [
        "cd \"/content/gdrive/My Drive/DigitalHistory/Week_3\"\n"
      ],
      "execution_count": null,
      "outputs": []
    },
    {
      "cell_type": "code",
      "metadata": {
        "colab_type": "code",
        "id": "Pp8mubdjVqY2",
        "colab": {}
      },
      "source": [
        "ls"
      ],
      "execution_count": null,
      "outputs": []
    },
    {
      "cell_type": "markdown",
      "metadata": {
        "colab_type": "text",
        "id": "H5hTrJOCHP22"
      },
      "source": [
        "### An Alternative method of loading the California Housing Dataset"
      ]
    },
    {
      "cell_type": "code",
      "metadata": {
        "colab_type": "code",
        "id": "zkIDSJWUQFCV",
        "colab": {}
      },
      "source": [
        "import os\n",
        "import tarfile\n",
        "import urllib\n",
        "\n",
        "DOWNLOAD_ROOT = \"https://raw.githubusercontent.com/ageron/handson-ml/master/\"\n",
        "HOUSING_PATH = os.path.join(\"datasets\", \"housing\")\n",
        "HOUSING_URL = DOWNLOAD_ROOT + \"datasets/housing/housing.tgz\"\n",
        "\n",
        "def fetch_housing_data(housing_url=HOUSING_URL, housing_path=HOUSING_PATH):\n",
        "    os.makedirs(housing_path, exist_ok=True)\n",
        "    tgz_path = os.path.join(housing_path, \"housing.tgz\")\n",
        "    urllib.request.urlretrieve(housing_url, tgz_path)\n",
        "    housing_tgz = tarfile.open(tgz_path)\n",
        "    housing_tgz.extractall(path=housing_path)\n",
        "    housing_tgz.close()"
      ],
      "execution_count": null,
      "outputs": []
    },
    {
      "cell_type": "code",
      "metadata": {
        "colab_type": "code",
        "id": "BZB8zAD5t--d",
        "colab": {}
      },
      "source": [
        "fetch_housing_data()"
      ],
      "execution_count": null,
      "outputs": []
    },
    {
      "cell_type": "code",
      "metadata": {
        "colab_type": "code",
        "id": "A0G7yJVTuBD2",
        "colab": {}
      },
      "source": [
        "import pandas as pd\n",
        "\n",
        "def load_housing_data(housing_path=HOUSING_PATH):\n",
        "    csv_path = os.path.join(housing_path, \"housing.csv\")\n",
        "    return pd.read_csv(csv_path)"
      ],
      "execution_count": null,
      "outputs": []
    },
    {
      "cell_type": "markdown",
      "metadata": {
        "colab_type": "text",
        "id": "Gi73ML_Vu2rD"
      },
      "source": [
        "## Step 4 [OPTIONAL]\n",
        "\n",
        "Now, we know that housing prices are directly affected by the population density and the median house income. We can at least visualize our data. For the next section, we are going to use an image of the California map and directly imprint it on our image.\n",
        "\n",
        "Note: We will not be changing the original ```housing.plot()``` function we wrote. Instead, we will just save it as an ```object```"
      ]
    },
    {
      "cell_type": "code",
      "metadata": {
        "colab_type": "code",
        "id": "8II1SlNpuZqW",
        "colab": {}
      },
      "source": [
        "image_url = 'https://github.com/bitprj/DigitalHistory/blob/master/Week4-Introduction-to-Data-Visualization-Graphs-Charts-and-Tables/images/california.png?raw=true'\n",
        "import matplotlib.image as mpimg\n",
        "california_img=mpimg.imread(image_url)\n",
        "ax = housing.plot(kind=\"scatter\",\n",
        "                  x=\"longitude\",\n",
        "                  y=\"latitude\",\n",
        "                  figsize=(10,7),\n",
        "                  s=housing['population']/100,\n",
        "                  label=\"Population\",\n",
        "                  c=\"median_house_value\",\n",
        "                  cmap=plt.get_cmap(\"jet\"),\n",
        "                  colorbar=False,\n",
        "                 alpha=0.4,\n",
        "                       )\n",
        "plt.imshow(california_img, extent=[-124.55, -113.80, 32.45, 42.05], alpha=0.5,\n",
        "            cmap=plt.get_cmap(\"jet\"))\n",
        "\n",
        "\n",
        "plt.ylabel(\"Latitude\", fontsize=14)\n",
        "plt.xlabel(\"Longitude\", fontsize=14)\n",
        "\n",
        "prices = housing[\"median_house_value\"]\n",
        "tick_values = np.linspace(prices.min(), prices.max(), 11)\n",
        "cbar = plt.colorbar()\n",
        "cbar.ax.set_yticklabels([\"$%dk\"%(round(v/1000)) for v in tick_values], fontsize=14)\n",
        "cbar.set_label('Median House Value', fontsize=16)\n",
        "\n",
        "plt.legend(fontsize=16)\n"
      ],
      "execution_count": null,
      "outputs": []
    }
  ]
}
